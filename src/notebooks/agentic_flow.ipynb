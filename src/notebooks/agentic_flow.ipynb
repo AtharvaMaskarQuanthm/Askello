{
 "cells": [
  {
   "cell_type": "code",
   "execution_count": 2,
   "id": "960050ca",
   "metadata": {},
   "outputs": [],
   "source": [
    "from agents.router_agent import router_agent"
   ]
  },
  {
   "cell_type": "code",
   "execution_count": 3,
   "id": "1cff98bf",
   "metadata": {},
   "outputs": [],
   "source": [
    "router = router_agent(\"Hey how are you doing?\")"
   ]
  },
  {
   "cell_type": "code",
   "execution_count": 4,
   "id": "fcca70d5",
   "metadata": {},
   "outputs": [
    {
     "data": {
      "text/plain": [
       "RouterResponse(routed_direction='General', message=\"I'm here to help! How can I assist you today?\")"
      ]
     },
     "execution_count": 4,
     "metadata": {},
     "output_type": "execute_result"
    }
   ],
   "source": [
    "router"
   ]
  }
 ],
 "metadata": {
  "kernelspec": {
   "display_name": "askello-venv",
   "language": "python",
   "name": "python3"
  },
  "language_info": {
   "codemirror_mode": {
    "name": "ipython",
    "version": 3
   },
   "file_extension": ".py",
   "mimetype": "text/x-python",
   "name": "python",
   "nbconvert_exporter": "python",
   "pygments_lexer": "ipython3",
   "version": "3.12.7"
  }
 },
 "nbformat": 4,
 "nbformat_minor": 5
}
