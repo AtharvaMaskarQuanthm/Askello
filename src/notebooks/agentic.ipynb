{
 "cells": [
  {
   "cell_type": "code",
   "execution_count": 1,
   "id": "2501a505",
   "metadata": {},
   "outputs": [],
   "source": [
    "from agents.router_agent import router_agent"
   ]
  },
  {
   "cell_type": "code",
   "execution_count": 7,
   "id": "a41ed588",
   "metadata": {},
   "outputs": [],
   "source": [
    "router_response = router_agent(\"What is the settlement period like?\")"
   ]
  },
  {
   "cell_type": "code",
   "execution_count": null,
   "id": "d8167faf",
   "metadata": {},
   "outputs": [],
   "source": [
    "router_response"
   ]
  },
  {
   "cell_type": "code",
   "execution_count": null,
   "id": "bb31e4be",
   "metadata": {},
   "outputs": [],
   "source": []
  }
 ],
 "metadata": {
  "kernelspec": {
   "display_name": "askello-venv",
   "language": "python",
   "name": "python3"
  },
  "language_info": {
   "codemirror_mode": {
    "name": "ipython",
    "version": 3
   },
   "file_extension": ".py",
   "mimetype": "text/x-python",
   "name": "python",
   "nbconvert_exporter": "python",
   "pygments_lexer": "ipython3",
   "version": "3.12.7"
  }
 },
 "nbformat": 4,
 "nbformat_minor": 5
}
