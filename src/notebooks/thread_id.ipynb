{
 "cells": [
  {
   "cell_type": "code",
   "execution_count": 8,
   "id": "7005eed3",
   "metadata": {},
   "outputs": [],
   "source": [
    "import json\n",
    "\n",
    "from typing import Dict, List"
   ]
  },
  {
   "cell_type": "code",
   "execution_count": 6,
   "id": "db0ba651",
   "metadata": {},
   "outputs": [],
   "source": [
    "DATA_JSON_PATH = \"../data/thread_data.json\""
   ]
  },
  {
   "cell_type": "code",
   "execution_count": 7,
   "id": "ee789a91",
   "metadata": {},
   "outputs": [],
   "source": [
    "thead_data = json.load(open(DATA_JSON_PATH, \"r\"))"
   ]
  },
  {
   "cell_type": "code",
   "execution_count": 11,
   "id": "5a44cea2",
   "metadata": {},
   "outputs": [],
   "source": [
    "def userid_lookup(user_id: str) -> List[Dict]:\n",
    "    \"\"\"\n",
    "    This function searches the data for user id and returns dictionary\n",
    "\n",
    "    Parameters:\n",
    "        - user_id (str) -> user's ID you wanna push\n",
    "\n",
    "    Returns:\n",
    "        - conversations (List[Dict]) -> List of past conversation between the user and the bot\n",
    "            - None if there exists no user.\n",
    "    \"\"\"\n",
    "\n",
    "    if user_id in list(thread_data.keys()):\n",
    "        return thread_data[user_id]\n",
    "\n",
    "    else:\n",
    "        print(f\":No user found\")\n",
    "        return None"
   ]
  }
 ],
 "metadata": {
  "kernelspec": {
   "display_name": "askello-venv",
   "language": "python",
   "name": "python3"
  },
  "language_info": {
   "codemirror_mode": {
    "name": "ipython",
    "version": 3
   },
   "file_extension": ".py",
   "mimetype": "text/x-python",
   "name": "python",
   "nbconvert_exporter": "python",
   "pygments_lexer": "ipython3",
   "version": "3.12.7"
  }
 },
 "nbformat": 4,
 "nbformat_minor": 5
}
