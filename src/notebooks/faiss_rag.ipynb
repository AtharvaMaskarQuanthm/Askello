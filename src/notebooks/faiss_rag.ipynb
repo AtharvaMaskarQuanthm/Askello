{
 "cells": [
  {
   "cell_type": "code",
   "execution_count": 1,
   "id": "05aa5861",
   "metadata": {},
   "outputs": [
    {
     "name": "stderr",
     "output_type": "stream",
     "text": [
      "d:\\askello\\askello-venv\\Lib\\site-packages\\tqdm\\auto.py:21: TqdmWarning: IProgress not found. Please update jupyter and ipywidgets. See https://ipywidgets.readthedocs.io/en/stable/user_install.html\n",
      "  from .autonotebook import tqdm as notebook_tqdm\n"
     ]
    }
   ],
   "source": [
    "import pandas as pd\n",
    "from services.faiss import FaissRAG"
   ]
  },
  {
   "cell_type": "code",
   "execution_count": 2,
   "id": "95bae1a8",
   "metadata": {},
   "outputs": [],
   "source": [
    "df = pd.read_csv(\"../data/CRM & LMS task.csv\")\n",
    "\n",
    "answers = df['Answers '].tolist()"
   ]
  },
  {
   "cell_type": "code",
   "execution_count": 3,
   "id": "582375c3",
   "metadata": {},
   "outputs": [
    {
     "name": "stdout",
     "output_type": "stream",
     "text": [
      "[2025-07-25 14:58:37] [INFO] FaissRAG: :Model Loaded Sucessfully\n",
      ":FAISS IVF index created successfully\n",
      "[2025-07-25 14:58:59] [INFO] FaissRAG: :FAISS Index setup complete\n"
     ]
    }
   ],
   "source": [
    "faiss_rag = FaissRAG(answers)"
   ]
  },
  {
   "cell_type": "code",
   "execution_count": 4,
   "id": "ddd4803e",
   "metadata": {},
   "outputs": [],
   "source": [
    "query = \"What is the settlement period!\""
   ]
  },
  {
   "cell_type": "code",
   "execution_count": 5,
   "id": "4dbe8b6f",
   "metadata": {},
   "outputs": [
    {
     "name": "stdout",
     "output_type": "stream",
     "text": [
      "[2025-07-25 14:58:59] [INFO] FaissRAG: FAISS Search latency: 0.017998933792114258s\n"
     ]
    },
    {
     "data": {
      "text/plain": [
       "['The settlement period is T+1, meaning the transaction is settled on the next business day after the trade date.',\n",
       " 'Settlement happens on a T+1 basis, excluding holidays. If you’ve not received funds beyond this, please raise a ticket with trade details.',\n",
       " 'T+1 means the settlement of stocks occurs one business day after the trade date.']"
      ]
     },
     "execution_count": 5,
     "metadata": {},
     "output_type": "execute_result"
    }
   ],
   "source": [
    "faiss_rag.search(query)"
   ]
  }
 ],
 "metadata": {
  "kernelspec": {
   "display_name": "askello-venv",
   "language": "python",
   "name": "python3"
  },
  "language_info": {
   "codemirror_mode": {
    "name": "ipython",
    "version": 3
   },
   "file_extension": ".py",
   "mimetype": "text/x-python",
   "name": "python",
   "nbconvert_exporter": "python",
   "pygments_lexer": "ipython3",
   "version": "3.12.7"
  }
 },
 "nbformat": 4,
 "nbformat_minor": 5
}
