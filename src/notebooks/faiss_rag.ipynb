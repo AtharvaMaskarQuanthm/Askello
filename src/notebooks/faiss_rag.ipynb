{
 "cells": [
  {
   "cell_type": "code",
   "execution_count": 2,
   "id": "ced4c2e0",
   "metadata": {},
   "outputs": [
    {
     "name": "stdout",
     "output_type": "stream",
     "text": [
      "CUDA available: False\n",
      "CUDA version: None\n"
     ]
    }
   ],
   "source": [
    "import torch\n",
    "print(\"CUDA available:\", torch.cuda.is_available())\n",
    "print(\"CUDA version:\", torch.version.cuda)"
   ]
  },
  {
   "cell_type": "code",
   "execution_count": null,
   "id": "316157d1",
   "metadata": {},
   "outputs": [
    {
     "name": "stdout",
     "output_type": "stream",
     "text": [
      "✅ FAISS IVF index created with real sentences.\n",
      "\n",
      "🔍 Results for query: 'Who painted the Mona Lisa?'\n",
      "1. The Mona Lisa was painted by Leonardo da Vinci. (distance: 0.2339)\n",
      "2. The Great Wall of China is visible from space. (distance: 1.5942)\n",
      "3. The capital of France is Paris. (distance: 1.7541)\n"
     ]
    }
   ],
   "source": [
    "import faiss\n",
    "import numpy as np\n",
    "from sentence_transformers import SentenceTransformer\n",
    "from time import time\n",
    "\n",
    "# ----------------------- #\n",
    "# 1. Setup\n",
    "# ----------------------- #\n",
    "dimension = 384           # Vector dimension from MiniLM\n",
    "nlist = 10           # Number of clusters (IVF)\n",
    "nprobe = 5                # Clusters to search at query time\n",
    "top_k = 3                 # Top K results to return\n",
    "\n",
    "# ----------------------- #\n",
    "# 2. Real Sentences\n",
    "# ----------------------- #\n",
    "sentences = [\n",
    "    \"The capital of France is Paris.\",\n",
    "    \"Dogs are man's best friend.\",\n",
    "    \"Machine learning is a subset of artificial intelligence.\",\n",
    "    \"Mount Everest is the tallest mountain in the world.\",\n",
    "    \"The Mona Lisa was painted by Leonardo da Vinci.\",\n",
    "    \"Photosynthesis is the process by which plants make their food.\",\n",
    "    \"Python is a popular programming language.\",\n",
    "    \"The Great Wall of China is visible from space.\",\n",
    "    \"Albert Einstein developed the theory of relativity.\",\n",
    "    \"Soccer is the most popular sport in the world.\"\n",
    "]\n",
    "\n",
    "# ----------------------- #\n",
    "# 3. Embed Sentences\n",
    "# ----------------------- #\n",
    "model = SentenceTransformer('all-MiniLM-L6-v2')\n",
    "vectors = model.encode(sentences, convert_to_numpy=True).astype('float32')\n",
    "\n",
    "# ----------------------- #\n",
    "# 4. Build FAISS IVF Index (CPU)\n",
    "# ----------------------- #\n",
    "quantizer = faiss.IndexFlatL2(dimension)  # base index used for clustering\n",
    "index = faiss.IndexIVFFlat(quantizer, dimension, nlist, faiss.METRIC_L2)\n",
    "\n",
    "index.train(vectors)       # train IVF clustering\n",
    "index.add(vectors)         # add sentence embeddings\n",
    "index.nprobe = nprobe\n",
    "\n",
    "print(\"✅ FAISS IVF index created with real sentences.\")\n",
    "\n",
    "# ----------------------- #\n",
    "# 5. Search Function\n",
    "# ----------------------- #\n",
    "def search(query_text, top_k=3):\n",
    "    query_vec = model.encode([query_text], convert_to_numpy=True).astype('float32')\n",
    "    D, I = index.search(query_vec, top_k)\n",
    "    results = [(sentences[i], float(D[0][j])) for j, i in enumerate(I[0])]\n",
    "    return results\n",
    "\n",
    "# ----------------------- #\n",
    "# 6. Try a Query\n",
    "# ----------------------- #\n",
    "query = \"Who painted the Mona Lisa?\"\n",
    "results = search(query)\n",
    "\n",
    "print(f\"\\n🔍 Results for query: '{query}'\")\n",
    "for i, (text, dist) in enumerate(results):\n",
    "    print(f\"{i+1}. {text} (distance: {dist:.4f})\")\n"
   ]
  },
  {
   "cell_type": "code",
   "execution_count": null,
   "id": "05aa5861",
   "metadata": {},
   "outputs": [],
   "source": []
  },
  {
   "cell_type": "code",
   "execution_count": null,
   "id": "95bae1a8",
   "metadata": {},
   "outputs": [],
   "source": []
  }
 ],
 "metadata": {
  "kernelspec": {
   "display_name": "askello-venv",
   "language": "python",
   "name": "python3"
  },
  "language_info": {
   "codemirror_mode": {
    "name": "ipython",
    "version": 3
   },
   "file_extension": ".py",
   "mimetype": "text/x-python",
   "name": "python",
   "nbconvert_exporter": "python",
   "pygments_lexer": "ipython3",
   "version": "3.12.7"
  }
 },
 "nbformat": 4,
 "nbformat_minor": 5
}
